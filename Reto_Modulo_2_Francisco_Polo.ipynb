{
  "nbformat": 4,
  "nbformat_minor": 0,
  "metadata": {
    "colab": {
      "provenance": [],
      "include_colab_link": true
    },
    "kernelspec": {
      "name": "python3",
      "display_name": "Python 3"
    }
  },
  "cells": [
    {
      "cell_type": "markdown",
      "metadata": {
        "id": "view-in-github",
        "colab_type": "text"
      },
      "source": [
        "<a href=\"https://colab.research.google.com/github/FranPolo25/Employee-Attrition/blob/main/Reto_Modulo_2_Francisco_Polo.ipynb\" target=\"_parent\"><img src=\"https://colab.research.google.com/assets/colab-badge.svg\" alt=\"Open In Colab\"/></a>"
      ]
    },
    {
      "cell_type": "markdown",
      "metadata": {
        "id": "gsZC9ixJx0lw"
      },
      "source": [
        "#DSAI Reto Final (Francisco Javier Polo Chavez)"
      ]
    },
    {
      "cell_type": "markdown",
      "metadata": {
        "id": "qNxwdC0wyk39"
      },
      "source": [
        "Montar drive en caso de tener los datos ahí"
      ]
    },
    {
      "cell_type": "code",
      "metadata": {
        "id": "K-eIXu6oyagt",
        "colab": {
          "base_uri": "https://localhost:8080/"
        },
        "outputId": "b5394d5f-5c6d-43d7-ad92-365e12f5fa5e"
      },
      "source": [
        "from google.colab import drive\n",
        "drive.mount('/content/drive')"
      ],
      "execution_count": null,
      "outputs": [
        {
          "output_type": "stream",
          "name": "stdout",
          "text": [
            "Mounted at /content/drive\n"
          ]
        }
      ]
    },
    {
      "cell_type": "markdown",
      "metadata": {
        "id": "mTeG_TnUygWI"
      },
      "source": [
        "Importar frameworks"
      ]
    },
    {
      "cell_type": "code",
      "metadata": {
        "id": "F6DjiZztybs7"
      },
      "source": [
        "import pandas as pd\n",
        "import numpy as np"
      ],
      "execution_count": null,
      "outputs": []
    },
    {
      "cell_type": "markdown",
      "metadata": {
        "id": "EZd_i-tx8Da2"
      },
      "source": [
        "**Recuperar la información del Archivo employee_attrition.csv**"
      ]
    },
    {
      "cell_type": "code",
      "metadata": {
        "id": "NpHt-e5h6p3X",
        "colab": {
          "base_uri": "https://localhost:8080/"
        },
        "outputId": "89e9ffa7-b085-41bf-a528-7eb366d4f954"
      },
      "source": [
        "employee = pd.read_csv('/content/drive/MyDrive/Data Science/Archivos Excel/Employee Attrition.csv') #Leer el archivo y asignarlo a un dataframe llamado employee\n",
        "employee.info() #Revisar un poco acerca del archivo"
      ],
      "execution_count": null,
      "outputs": [
        {
          "output_type": "stream",
          "name": "stdout",
          "text": [
            "<class 'pandas.core.frame.DataFrame'>\n",
            "RangeIndex: 3000 entries, 0 to 2999\n",
            "Data columns (total 23 columns):\n",
            " #   Column                     Non-Null Count  Dtype  \n",
            "---  ------                     --------------  -----  \n",
            " 0   Employee_ID                3000 non-null   object \n",
            " 1   Gender                     3000 non-null   object \n",
            " 2   Age                        2839 non-null   float64\n",
            " 3   Education_Level            3000 non-null   int64  \n",
            " 4   Relationship_Status        3000 non-null   object \n",
            " 5   Hometown                   3000 non-null   object \n",
            " 6   Unit                       3000 non-null   object \n",
            " 7   Decision_skill_possess     3000 non-null   object \n",
            " 8   Time_of_service            2948 non-null   float64\n",
            " 9   Time_since_promotion       3000 non-null   int64  \n",
            " 10  growth_rate                3000 non-null   int64  \n",
            " 11  Travel_Rate                3000 non-null   int64  \n",
            " 12  Post_Level                 3000 non-null   int64  \n",
            " 13  Pay_Scale                  2997 non-null   float64\n",
            " 14  Compensation_and_Benefits  3000 non-null   object \n",
            " 15  Work_Life_balance          2995 non-null   float64\n",
            " 16  VAR1                       3000 non-null   int64  \n",
            " 17  VAR2                       2783 non-null   float64\n",
            " 18  VAR3                       3000 non-null   float64\n",
            " 19  VAR4                       2702 non-null   float64\n",
            " 20  VAR5                       3000 non-null   int64  \n",
            " 21  VAR6                       3000 non-null   int64  \n",
            " 22  VAR7                       3000 non-null   int64  \n",
            "dtypes: float64(7), int64(9), object(7)\n",
            "memory usage: 539.2+ KB\n"
          ]
        }
      ]
    },
    {
      "cell_type": "markdown",
      "metadata": {
        "id": "Indmr1d8yr9R"
      },
      "source": [
        "**El tiempo de servicio promedio de los trabajadores**"
      ]
    },
    {
      "cell_type": "code",
      "metadata": {
        "id": "RRduYfjjyyo0",
        "colab": {
          "base_uri": "https://localhost:8080/"
        },
        "outputId": "b9ea482a-8176-43e6-98bc-e68029a8e79e"
      },
      "source": [
        "serviciopromedio = employee.drop_duplicates(subset = 'Employee_ID')\n",
        "serviciopromedio['Time_of_service'].mean()"
      ],
      "execution_count": null,
      "outputs": [
        {
          "output_type": "execute_result",
          "data": {
            "text/plain": [
              "13.403663500678427"
            ]
          },
          "metadata": {},
          "execution_count": 4
        }
      ]
    },
    {
      "cell_type": "markdown",
      "metadata": {
        "id": "2M7IJYqBy4oh"
      },
      "source": [
        "**El porcentaje de hombres y mujeres en el archivo**"
      ]
    },
    {
      "cell_type": "code",
      "metadata": {
        "id": "4xEVNH7ey8XJ",
        "colab": {
          "base_uri": "https://localhost:8080/"
        },
        "outputId": "06d00080-0b41-41e1-e7f1-73f1e74f8bfe"
      },
      "source": [
        "hombre = employee[employee['Gender'] == \"M\"]\n",
        "mujer = employee[employee['Gender'] == \"F\"]\n",
        "hombre = hombre['Gender'].count()\n",
        "mujer = mujer['Gender'].count()\n",
        "\n",
        "print(\"La cantidad de hombres dentro del archivo es de: \", hombre)\n",
        "print(\"La cantidad de mujeres dentro del archivo es de: \", mujer)\n",
        "print(\"La cantidad total de personas dentro del archivo es de: \", (hombre + mujer))\n",
        "print(\"El porcentaje de hombres es de :\", ((hombre * 100)/(hombre + mujer)), \"%\")\n",
        "print(\"El porcentaje de mujeres es de :\", ((mujer * 100)/(hombre + mujer)), \"%\")"
      ],
      "execution_count": null,
      "outputs": [
        {
          "output_type": "stream",
          "name": "stdout",
          "text": [
            "La cantidad de hombres dentro del archivo es de:  1272\n",
            "La cantidad de mujeres dentro del archivo es de:  1728\n",
            "La cantidad total de personas dentro del archivo es de:  3000\n",
            "El porcentaje de hombres es de : 42.4 %\n",
            "El porcentaje de mujeres es de : 57.6 %\n"
          ]
        }
      ]
    },
    {
      "cell_type": "markdown",
      "metadata": {
        "id": "8DawbDJey9Co"
      },
      "source": [
        "**El tiempo máximo sin promoción de las personas que llevan más de 15 años de servicio**"
      ]
    },
    {
      "cell_type": "code",
      "metadata": {
        "id": "viOJU3KgzGBn",
        "colab": {
          "base_uri": "https://localhost:8080/"
        },
        "outputId": "d22b59de-6230-42aa-fc01-d28f17fb610e"
      },
      "source": [
        "#promo = employee[employee['Time_of_service']>15]\n",
        "#promo['Time_since_promotion'].max()\n",
        "promo = employee[['Time_of_service','Time_since_promotion']][employee['Time_of_service']>15]\n",
        "promo['No_Promotion'] = employee['Time_of_service'] - employee['Time_since_promotion']\n",
        "promo = promo.sort_values('No_Promotion',ascending=False)\n",
        "print(promo)\n",
        "print('El tiempo maximo sin promocion del archivo de datos es de: ', promo['No_Promotion'].max())"
      ],
      "execution_count": null,
      "outputs": [
        {
          "output_type": "stream",
          "name": "stdout",
          "text": [
            "      Time_of_service  Time_since_promotion  No_Promotion\n",
            "814              41.0                     1          40.0\n",
            "2632             42.0                     2          40.0\n",
            "1107             42.0                     2          40.0\n",
            "1                41.0                     2          39.0\n",
            "2150             43.0                     4          39.0\n",
            "...               ...                   ...           ...\n",
            "2837             16.0                     4          12.0\n",
            "1759             16.0                     4          12.0\n",
            "709              16.0                     4          12.0\n",
            "1621             16.0                     4          12.0\n",
            "1324             16.0                     4          12.0\n",
            "\n",
            "[1076 rows x 3 columns]\n",
            "El tiempo maximo sin promocion del archivo de datos es de:  40.0\n"
          ]
        }
      ]
    },
    {
      "cell_type": "markdown",
      "metadata": {
        "id": "V1udTTiRzGcZ"
      },
      "source": [
        "**La edad promedio en la que ingresaron las personas a la empresa, genera una nueva columna derivada mediante la formula Age - Time_of_service**"
      ]
    },
    {
      "cell_type": "code",
      "metadata": {
        "id": "xKRUe_JkzadB",
        "colab": {
          "base_uri": "https://localhost:8080/"
        },
        "outputId": "cd56c47d-c80c-4720-98e2-1f274345064e"
      },
      "source": [
        "employee['Edad_de_Ingreso'] = employee['Age'] - employee['Time_of_service']\n",
        "edad_promedio = employee[['Employee_ID', 'Age', 'Time_of_service', 'Edad_de_Ingreso']]\n",
        "print(edad_promedio)\n",
        "print('La edad promedio de todos los empleados dentro del archivo es de: ', edad_promedio['Edad_de_Ingreso'].mean())"
      ],
      "execution_count": null,
      "outputs": [
        {
          "output_type": "stream",
          "name": "stdout",
          "text": [
            "     Employee_ID   Age  Time_of_service  Edad_de_Ingreso\n",
            "0      EID_22713  32.0              7.0             25.0\n",
            "1       EID_9658  65.0             41.0             24.0\n",
            "2      EID_22203  52.0             21.0             31.0\n",
            "3       EID_7652  50.0             11.0             39.0\n",
            "4       EID_6516  44.0             12.0             32.0\n",
            "...          ...   ...              ...              ...\n",
            "2995   EID_22547  32.0              3.0             29.0\n",
            "2996   EID_10066   NaN             10.0              NaN\n",
            "2997    EID_7126  60.0             35.0             25.0\n",
            "2998    EID_4929  51.0             23.0             28.0\n",
            "2999   EID_24750  45.0             12.0             33.0\n",
            "\n",
            "[3000 rows x 4 columns]\n",
            "La edad promedio de todos los empleados dentro del archivo es de:  26.391896737181785\n"
          ]
        }
      ]
    },
    {
      "cell_type": "markdown",
      "metadata": {
        "id": "av6qnlq-zbrg"
      },
      "source": [
        "**Un dataframe con las columnas Employee_ID, Relationship, Decision_skill_process que sólo contenga los registros de mujeres, solteras y con compensación tipo 2 o 3**"
      ]
    },
    {
      "cell_type": "code",
      "metadata": {
        "id": "jBxgVvFrzq11",
        "colab": {
          "base_uri": "https://localhost:8080/",
          "height": 424
        },
        "outputId": "6cc5a2d7-db2d-4c97-969c-661311170fd9"
      },
      "source": [
        "mujeres = employee.query('(Gender==\"F\") & (Relationship_Status==\"Single\") & (Compensation_and_Benefits==\"type2\" | Compensation_and_Benefits==\"type3\")')\n",
        "mujeres = mujeres[['Employee_ID','Relationship_Status','Decision_skill_possess']]\n",
        "#El siguiente comentario es para revisar los registros deseados pero que no se deben de mostrar en las columnas seleccionadas\n",
        "#mujeres = mujeres.drop(['Age', 'Education_Level', 'Hometown', 'Unit', 'Time_of_service', 'Time_since_promotion', 'growth_rate', 'Travel_Rate', 'Post_Level', 'Pay_Scale', 'Work_Life_balance', 'VAR1', 'VAR2', 'VAR3', 'VAR4', 'VAR5', 'VAR6', 'VAR7', 'Edad_de_Ingreso'], axis=1)\n",
        "mujeres"
      ],
      "execution_count": null,
      "outputs": [
        {
          "output_type": "execute_result",
          "data": {
            "text/plain": [
              "     Employee_ID Relationship_Status Decision_skill_possess\n",
              "0      EID_22713              Single             Conceptual\n",
              "10     EID_13639              Single             Behavioral\n",
              "12     EID_16537              Single              Directive\n",
              "15      EID_1855              Single             Analytical\n",
              "23     EID_11398              Single              Directive\n",
              "...          ...                 ...                    ...\n",
              "2979   EID_23052              Single             Analytical\n",
              "2993   EID_10639              Single             Conceptual\n",
              "2995   EID_22547              Single              Directive\n",
              "2996   EID_10066              Single             Conceptual\n",
              "2997    EID_7126              Single             Analytical\n",
              "\n",
              "[578 rows x 3 columns]"
            ],
            "text/html": [
              "\n",
              "  <div id=\"df-122592e2-d4fe-480e-b0e1-0558896e6d98\">\n",
              "    <div class=\"colab-df-container\">\n",
              "      <div>\n",
              "<style scoped>\n",
              "    .dataframe tbody tr th:only-of-type {\n",
              "        vertical-align: middle;\n",
              "    }\n",
              "\n",
              "    .dataframe tbody tr th {\n",
              "        vertical-align: top;\n",
              "    }\n",
              "\n",
              "    .dataframe thead th {\n",
              "        text-align: right;\n",
              "    }\n",
              "</style>\n",
              "<table border=\"1\" class=\"dataframe\">\n",
              "  <thead>\n",
              "    <tr style=\"text-align: right;\">\n",
              "      <th></th>\n",
              "      <th>Employee_ID</th>\n",
              "      <th>Relationship_Status</th>\n",
              "      <th>Decision_skill_possess</th>\n",
              "    </tr>\n",
              "  </thead>\n",
              "  <tbody>\n",
              "    <tr>\n",
              "      <th>0</th>\n",
              "      <td>EID_22713</td>\n",
              "      <td>Single</td>\n",
              "      <td>Conceptual</td>\n",
              "    </tr>\n",
              "    <tr>\n",
              "      <th>10</th>\n",
              "      <td>EID_13639</td>\n",
              "      <td>Single</td>\n",
              "      <td>Behavioral</td>\n",
              "    </tr>\n",
              "    <tr>\n",
              "      <th>12</th>\n",
              "      <td>EID_16537</td>\n",
              "      <td>Single</td>\n",
              "      <td>Directive</td>\n",
              "    </tr>\n",
              "    <tr>\n",
              "      <th>15</th>\n",
              "      <td>EID_1855</td>\n",
              "      <td>Single</td>\n",
              "      <td>Analytical</td>\n",
              "    </tr>\n",
              "    <tr>\n",
              "      <th>23</th>\n",
              "      <td>EID_11398</td>\n",
              "      <td>Single</td>\n",
              "      <td>Directive</td>\n",
              "    </tr>\n",
              "    <tr>\n",
              "      <th>...</th>\n",
              "      <td>...</td>\n",
              "      <td>...</td>\n",
              "      <td>...</td>\n",
              "    </tr>\n",
              "    <tr>\n",
              "      <th>2979</th>\n",
              "      <td>EID_23052</td>\n",
              "      <td>Single</td>\n",
              "      <td>Analytical</td>\n",
              "    </tr>\n",
              "    <tr>\n",
              "      <th>2993</th>\n",
              "      <td>EID_10639</td>\n",
              "      <td>Single</td>\n",
              "      <td>Conceptual</td>\n",
              "    </tr>\n",
              "    <tr>\n",
              "      <th>2995</th>\n",
              "      <td>EID_22547</td>\n",
              "      <td>Single</td>\n",
              "      <td>Directive</td>\n",
              "    </tr>\n",
              "    <tr>\n",
              "      <th>2996</th>\n",
              "      <td>EID_10066</td>\n",
              "      <td>Single</td>\n",
              "      <td>Conceptual</td>\n",
              "    </tr>\n",
              "    <tr>\n",
              "      <th>2997</th>\n",
              "      <td>EID_7126</td>\n",
              "      <td>Single</td>\n",
              "      <td>Analytical</td>\n",
              "    </tr>\n",
              "  </tbody>\n",
              "</table>\n",
              "<p>578 rows × 3 columns</p>\n",
              "</div>\n",
              "      <button class=\"colab-df-convert\" onclick=\"convertToInteractive('df-122592e2-d4fe-480e-b0e1-0558896e6d98')\"\n",
              "              title=\"Convert this dataframe to an interactive table.\"\n",
              "              style=\"display:none;\">\n",
              "        \n",
              "  <svg xmlns=\"http://www.w3.org/2000/svg\" height=\"24px\"viewBox=\"0 0 24 24\"\n",
              "       width=\"24px\">\n",
              "    <path d=\"M0 0h24v24H0V0z\" fill=\"none\"/>\n",
              "    <path d=\"M18.56 5.44l.94 2.06.94-2.06 2.06-.94-2.06-.94-.94-2.06-.94 2.06-2.06.94zm-11 1L8.5 8.5l.94-2.06 2.06-.94-2.06-.94L8.5 2.5l-.94 2.06-2.06.94zm10 10l.94 2.06.94-2.06 2.06-.94-2.06-.94-.94-2.06-.94 2.06-2.06.94z\"/><path d=\"M17.41 7.96l-1.37-1.37c-.4-.4-.92-.59-1.43-.59-.52 0-1.04.2-1.43.59L10.3 9.45l-7.72 7.72c-.78.78-.78 2.05 0 2.83L4 21.41c.39.39.9.59 1.41.59.51 0 1.02-.2 1.41-.59l7.78-7.78 2.81-2.81c.8-.78.8-2.07 0-2.86zM5.41 20L4 18.59l7.72-7.72 1.47 1.35L5.41 20z\"/>\n",
              "  </svg>\n",
              "      </button>\n",
              "      \n",
              "  <style>\n",
              "    .colab-df-container {\n",
              "      display:flex;\n",
              "      flex-wrap:wrap;\n",
              "      gap: 12px;\n",
              "    }\n",
              "\n",
              "    .colab-df-convert {\n",
              "      background-color: #E8F0FE;\n",
              "      border: none;\n",
              "      border-radius: 50%;\n",
              "      cursor: pointer;\n",
              "      display: none;\n",
              "      fill: #1967D2;\n",
              "      height: 32px;\n",
              "      padding: 0 0 0 0;\n",
              "      width: 32px;\n",
              "    }\n",
              "\n",
              "    .colab-df-convert:hover {\n",
              "      background-color: #E2EBFA;\n",
              "      box-shadow: 0px 1px 2px rgba(60, 64, 67, 0.3), 0px 1px 3px 1px rgba(60, 64, 67, 0.15);\n",
              "      fill: #174EA6;\n",
              "    }\n",
              "\n",
              "    [theme=dark] .colab-df-convert {\n",
              "      background-color: #3B4455;\n",
              "      fill: #D2E3FC;\n",
              "    }\n",
              "\n",
              "    [theme=dark] .colab-df-convert:hover {\n",
              "      background-color: #434B5C;\n",
              "      box-shadow: 0px 1px 3px 1px rgba(0, 0, 0, 0.15);\n",
              "      filter: drop-shadow(0px 1px 2px rgba(0, 0, 0, 0.3));\n",
              "      fill: #FFFFFF;\n",
              "    }\n",
              "  </style>\n",
              "\n",
              "      <script>\n",
              "        const buttonEl =\n",
              "          document.querySelector('#df-122592e2-d4fe-480e-b0e1-0558896e6d98 button.colab-df-convert');\n",
              "        buttonEl.style.display =\n",
              "          google.colab.kernel.accessAllowed ? 'block' : 'none';\n",
              "\n",
              "        async function convertToInteractive(key) {\n",
              "          const element = document.querySelector('#df-122592e2-d4fe-480e-b0e1-0558896e6d98');\n",
              "          const dataTable =\n",
              "            await google.colab.kernel.invokeFunction('convertToInteractive',\n",
              "                                                     [key], {});\n",
              "          if (!dataTable) return;\n",
              "\n",
              "          const docLinkHtml = 'Like what you see? Visit the ' +\n",
              "            '<a target=\"_blank\" href=https://colab.research.google.com/notebooks/data_table.ipynb>data table notebook</a>'\n",
              "            + ' to learn more about interactive tables.';\n",
              "          element.innerHTML = '';\n",
              "          dataTable['output_type'] = 'display_data';\n",
              "          await google.colab.output.renderOutput(dataTable, element);\n",
              "          const docLink = document.createElement('div');\n",
              "          docLink.innerHTML = docLinkHtml;\n",
              "          element.appendChild(docLink);\n",
              "        }\n",
              "      </script>\n",
              "    </div>\n",
              "  </div>\n",
              "  "
            ]
          },
          "metadata": {},
          "execution_count": 34
        }
      ]
    },
    {
      "cell_type": "markdown",
      "metadata": {
        "id": "sy3Gih3vzrMM"
      },
      "source": [
        "**Una columna derivada con el valor \"on time\" si cuando tuvo su última promoción tenía menos de 30 años. En caso contrario colocar el valor de \"out of time\"**"
      ]
    },
    {
      "cell_type": "code",
      "metadata": {
        "id": "O9z8CsvE0O2K",
        "colab": {
          "base_uri": "https://localhost:8080/",
          "height": 719
        },
        "outputId": "0c25f1ad-1cfd-481a-b9ff-42ba107a6a21"
      },
      "source": [
        "#Primer intento\n",
        "#employee['Time'] = employee['Age'] - employee['Time_since_promotion']\n",
        "#time = employee[['Employee_ID', 'Age', 'Time_since_promotion', 'Time']]\n",
        "#time = time.query('(Time>0) & (Time<30)')\n",
        "#time['NewTime'] = \"On Time\"\n",
        "#time\n",
        "\n",
        "#Segundo intento\n",
        "#if((time['Time']>0) & (time['Time']<30)) in time.columns:\n",
        "  #time['NewTime'] = \"On Time\"\n",
        "#  print(\"yes\")\n",
        "#else:\n",
        "  #time['NewTime'] = \"Out of Time\"\n",
        "#  print(\"no\")\n",
        "#time.info()\n",
        "\n",
        "employee['Time'] = employee['Age'] - employee['Time_since_promotion']\n",
        "time = employee[['Employee_ID', 'Age', 'Time_since_promotion', 'Time']]\n",
        "time['Time'] = pd.to_numeric(time['Time'], downcast='float')\n",
        "time.loc[((time['Time']>0) & (time['Time']<30)), 'NewTime'] = \"On Time\"\n",
        "time.loc[time['Time']>30, 'NewTime'] = \"Out of Time\"\n",
        "time"
      ],
      "execution_count": null,
      "outputs": [
        {
          "output_type": "stream",
          "name": "stderr",
          "text": [
            "/usr/local/lib/python3.7/dist-packages/ipykernel_launcher.py:19: SettingWithCopyWarning: \n",
            "A value is trying to be set on a copy of a slice from a DataFrame.\n",
            "Try using .loc[row_indexer,col_indexer] = value instead\n",
            "\n",
            "See the caveats in the documentation: https://pandas.pydata.org/pandas-docs/stable/user_guide/indexing.html#returning-a-view-versus-a-copy\n",
            "/usr/local/lib/python3.7/dist-packages/pandas/core/indexing.py:1684: SettingWithCopyWarning: \n",
            "A value is trying to be set on a copy of a slice from a DataFrame.\n",
            "Try using .loc[row_indexer,col_indexer] = value instead\n",
            "\n",
            "See the caveats in the documentation: https://pandas.pydata.org/pandas-docs/stable/user_guide/indexing.html#returning-a-view-versus-a-copy\n",
            "  self.obj[key] = infer_fill_value(value)\n",
            "/usr/local/lib/python3.7/dist-packages/pandas/core/indexing.py:1817: SettingWithCopyWarning: \n",
            "A value is trying to be set on a copy of a slice from a DataFrame.\n",
            "Try using .loc[row_indexer,col_indexer] = value instead\n",
            "\n",
            "See the caveats in the documentation: https://pandas.pydata.org/pandas-docs/stable/user_guide/indexing.html#returning-a-view-versus-a-copy\n",
            "  self._setitem_single_column(loc, value, pi)\n"
          ]
        },
        {
          "output_type": "execute_result",
          "data": {
            "text/plain": [
              "     Employee_ID   Age  Time_since_promotion  Time      NewTime\n",
              "0      EID_22713  32.0                     4  28.0      On Time\n",
              "1       EID_9658  65.0                     2  63.0  Out of Time\n",
              "2      EID_22203  52.0                     3  49.0  Out of Time\n",
              "3       EID_7652  50.0                     4  46.0  Out of Time\n",
              "4       EID_6516  44.0                     4  40.0  Out of Time\n",
              "...          ...   ...                   ...   ...          ...\n",
              "2995   EID_22547  32.0                     3  29.0      On Time\n",
              "2996   EID_10066   NaN                     2   NaN          NaN\n",
              "2997    EID_7126  60.0                     1  59.0  Out of Time\n",
              "2998    EID_4929  51.0                     1  50.0  Out of Time\n",
              "2999   EID_24750  45.0                     4  41.0  Out of Time\n",
              "\n",
              "[3000 rows x 5 columns]"
            ],
            "text/html": [
              "\n",
              "  <div id=\"df-7a87e45b-583d-4762-91b9-97948adfbce2\">\n",
              "    <div class=\"colab-df-container\">\n",
              "      <div>\n",
              "<style scoped>\n",
              "    .dataframe tbody tr th:only-of-type {\n",
              "        vertical-align: middle;\n",
              "    }\n",
              "\n",
              "    .dataframe tbody tr th {\n",
              "        vertical-align: top;\n",
              "    }\n",
              "\n",
              "    .dataframe thead th {\n",
              "        text-align: right;\n",
              "    }\n",
              "</style>\n",
              "<table border=\"1\" class=\"dataframe\">\n",
              "  <thead>\n",
              "    <tr style=\"text-align: right;\">\n",
              "      <th></th>\n",
              "      <th>Employee_ID</th>\n",
              "      <th>Age</th>\n",
              "      <th>Time_since_promotion</th>\n",
              "      <th>Time</th>\n",
              "      <th>NewTime</th>\n",
              "    </tr>\n",
              "  </thead>\n",
              "  <tbody>\n",
              "    <tr>\n",
              "      <th>0</th>\n",
              "      <td>EID_22713</td>\n",
              "      <td>32.0</td>\n",
              "      <td>4</td>\n",
              "      <td>28.0</td>\n",
              "      <td>On Time</td>\n",
              "    </tr>\n",
              "    <tr>\n",
              "      <th>1</th>\n",
              "      <td>EID_9658</td>\n",
              "      <td>65.0</td>\n",
              "      <td>2</td>\n",
              "      <td>63.0</td>\n",
              "      <td>Out of Time</td>\n",
              "    </tr>\n",
              "    <tr>\n",
              "      <th>2</th>\n",
              "      <td>EID_22203</td>\n",
              "      <td>52.0</td>\n",
              "      <td>3</td>\n",
              "      <td>49.0</td>\n",
              "      <td>Out of Time</td>\n",
              "    </tr>\n",
              "    <tr>\n",
              "      <th>3</th>\n",
              "      <td>EID_7652</td>\n",
              "      <td>50.0</td>\n",
              "      <td>4</td>\n",
              "      <td>46.0</td>\n",
              "      <td>Out of Time</td>\n",
              "    </tr>\n",
              "    <tr>\n",
              "      <th>4</th>\n",
              "      <td>EID_6516</td>\n",
              "      <td>44.0</td>\n",
              "      <td>4</td>\n",
              "      <td>40.0</td>\n",
              "      <td>Out of Time</td>\n",
              "    </tr>\n",
              "    <tr>\n",
              "      <th>...</th>\n",
              "      <td>...</td>\n",
              "      <td>...</td>\n",
              "      <td>...</td>\n",
              "      <td>...</td>\n",
              "      <td>...</td>\n",
              "    </tr>\n",
              "    <tr>\n",
              "      <th>2995</th>\n",
              "      <td>EID_22547</td>\n",
              "      <td>32.0</td>\n",
              "      <td>3</td>\n",
              "      <td>29.0</td>\n",
              "      <td>On Time</td>\n",
              "    </tr>\n",
              "    <tr>\n",
              "      <th>2996</th>\n",
              "      <td>EID_10066</td>\n",
              "      <td>NaN</td>\n",
              "      <td>2</td>\n",
              "      <td>NaN</td>\n",
              "      <td>NaN</td>\n",
              "    </tr>\n",
              "    <tr>\n",
              "      <th>2997</th>\n",
              "      <td>EID_7126</td>\n",
              "      <td>60.0</td>\n",
              "      <td>1</td>\n",
              "      <td>59.0</td>\n",
              "      <td>Out of Time</td>\n",
              "    </tr>\n",
              "    <tr>\n",
              "      <th>2998</th>\n",
              "      <td>EID_4929</td>\n",
              "      <td>51.0</td>\n",
              "      <td>1</td>\n",
              "      <td>50.0</td>\n",
              "      <td>Out of Time</td>\n",
              "    </tr>\n",
              "    <tr>\n",
              "      <th>2999</th>\n",
              "      <td>EID_24750</td>\n",
              "      <td>45.0</td>\n",
              "      <td>4</td>\n",
              "      <td>41.0</td>\n",
              "      <td>Out of Time</td>\n",
              "    </tr>\n",
              "  </tbody>\n",
              "</table>\n",
              "<p>3000 rows × 5 columns</p>\n",
              "</div>\n",
              "      <button class=\"colab-df-convert\" onclick=\"convertToInteractive('df-7a87e45b-583d-4762-91b9-97948adfbce2')\"\n",
              "              title=\"Convert this dataframe to an interactive table.\"\n",
              "              style=\"display:none;\">\n",
              "        \n",
              "  <svg xmlns=\"http://www.w3.org/2000/svg\" height=\"24px\"viewBox=\"0 0 24 24\"\n",
              "       width=\"24px\">\n",
              "    <path d=\"M0 0h24v24H0V0z\" fill=\"none\"/>\n",
              "    <path d=\"M18.56 5.44l.94 2.06.94-2.06 2.06-.94-2.06-.94-.94-2.06-.94 2.06-2.06.94zm-11 1L8.5 8.5l.94-2.06 2.06-.94-2.06-.94L8.5 2.5l-.94 2.06-2.06.94zm10 10l.94 2.06.94-2.06 2.06-.94-2.06-.94-.94-2.06-.94 2.06-2.06.94z\"/><path d=\"M17.41 7.96l-1.37-1.37c-.4-.4-.92-.59-1.43-.59-.52 0-1.04.2-1.43.59L10.3 9.45l-7.72 7.72c-.78.78-.78 2.05 0 2.83L4 21.41c.39.39.9.59 1.41.59.51 0 1.02-.2 1.41-.59l7.78-7.78 2.81-2.81c.8-.78.8-2.07 0-2.86zM5.41 20L4 18.59l7.72-7.72 1.47 1.35L5.41 20z\"/>\n",
              "  </svg>\n",
              "      </button>\n",
              "      \n",
              "  <style>\n",
              "    .colab-df-container {\n",
              "      display:flex;\n",
              "      flex-wrap:wrap;\n",
              "      gap: 12px;\n",
              "    }\n",
              "\n",
              "    .colab-df-convert {\n",
              "      background-color: #E8F0FE;\n",
              "      border: none;\n",
              "      border-radius: 50%;\n",
              "      cursor: pointer;\n",
              "      display: none;\n",
              "      fill: #1967D2;\n",
              "      height: 32px;\n",
              "      padding: 0 0 0 0;\n",
              "      width: 32px;\n",
              "    }\n",
              "\n",
              "    .colab-df-convert:hover {\n",
              "      background-color: #E2EBFA;\n",
              "      box-shadow: 0px 1px 2px rgba(60, 64, 67, 0.3), 0px 1px 3px 1px rgba(60, 64, 67, 0.15);\n",
              "      fill: #174EA6;\n",
              "    }\n",
              "\n",
              "    [theme=dark] .colab-df-convert {\n",
              "      background-color: #3B4455;\n",
              "      fill: #D2E3FC;\n",
              "    }\n",
              "\n",
              "    [theme=dark] .colab-df-convert:hover {\n",
              "      background-color: #434B5C;\n",
              "      box-shadow: 0px 1px 3px 1px rgba(0, 0, 0, 0.15);\n",
              "      filter: drop-shadow(0px 1px 2px rgba(0, 0, 0, 0.3));\n",
              "      fill: #FFFFFF;\n",
              "    }\n",
              "  </style>\n",
              "\n",
              "      <script>\n",
              "        const buttonEl =\n",
              "          document.querySelector('#df-7a87e45b-583d-4762-91b9-97948adfbce2 button.colab-df-convert');\n",
              "        buttonEl.style.display =\n",
              "          google.colab.kernel.accessAllowed ? 'block' : 'none';\n",
              "\n",
              "        async function convertToInteractive(key) {\n",
              "          const element = document.querySelector('#df-7a87e45b-583d-4762-91b9-97948adfbce2');\n",
              "          const dataTable =\n",
              "            await google.colab.kernel.invokeFunction('convertToInteractive',\n",
              "                                                     [key], {});\n",
              "          if (!dataTable) return;\n",
              "\n",
              "          const docLinkHtml = 'Like what you see? Visit the ' +\n",
              "            '<a target=\"_blank\" href=https://colab.research.google.com/notebooks/data_table.ipynb>data table notebook</a>'\n",
              "            + ' to learn more about interactive tables.';\n",
              "          element.innerHTML = '';\n",
              "          dataTable['output_type'] = 'display_data';\n",
              "          await google.colab.output.renderOutput(dataTable, element);\n",
              "          const docLink = document.createElement('div');\n",
              "          docLink.innerHTML = docLinkHtml;\n",
              "          element.appendChild(docLink);\n",
              "        }\n",
              "      </script>\n",
              "    </div>\n",
              "  </div>\n",
              "  "
            ]
          },
          "metadata": {},
          "execution_count": 43
        }
      ]
    },
    {
      "cell_type": "markdown",
      "metadata": {
        "id": "mLAKzyDK0ReC"
      },
      "source": [
        "**Guardar los dataframes resultantes**"
      ]
    },
    {
      "cell_type": "code",
      "metadata": {
        "id": "WiXTeQht0Q9t"
      },
      "source": [
        "promo.to_excel('/content/sample_data/tiempo_maximo_sin_promoción.xlsx') #Archivo ejercicio 3\n",
        "edad_promedio.to_excel('/content/sample_data/edad_promedio.xlsx') #Archivo ejercicio 4\n",
        "mujeres.to_excel('/content/sample_data/mujeres.xlsx') #Archivo ejercicio 5\n",
        "time.to_excel('/content/sample_data/tiempo_de_ultima_promocion.xlsx') #Archivo ejercicio 6"
      ],
      "execution_count": null,
      "outputs": []
    }
  ]
}